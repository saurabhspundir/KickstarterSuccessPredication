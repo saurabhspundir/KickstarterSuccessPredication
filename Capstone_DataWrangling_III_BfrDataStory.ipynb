{
 "cells": [
  {
   "cell_type": "code",
   "execution_count": null,
   "metadata": {
    "collapsed": true,
    "scrolled": false
   },
   "outputs": [],
   "source": [
    "import distutils\n",
    "import distutils.util\n",
    "import numpy as np\n",
    "import pandas as pd\n",
    "import os\n",
    "import os.path as opath\n",
    "import ast\n",
    "import json\n",
    "from pandas.io.json import json_normalize\n",
    "import datetime\n",
    "import pickle\n",
    "import re\n",
    "from datetime import datetime\n",
    "from IPython.core.display import HTML\n",
    "from IPython.core.interactiveshell import InteractiveShell\n",
    "InteractiveShell.ast_node_interactivity = \"all\""
   ]
  },
  {
   "cell_type": "markdown",
   "metadata": {},
   "source": [
    "<div class=\"span5 alert alert-info\">\n",
    "<h3>Note book details</h3>\n",
    "\n",
    "<p> This notebook is for part 3 of 3 in data wrangling for <b>kickstarter success prediction</b> project.</p>\n",
    "\n",
    "<p> Notes.</p>\n",
    "<ol>\n",
    "<li>  The file will filter columns needed for data story</li> \n",
    "<li>  The file will rename columns to more descriptive and clear names</li> \n",
    "<li>  The following columns are also added/modified \n",
    "    <ul>\n",
    "    <li>exchange rate : exchange rate to get later use for non USD projects</li>\n",
    "    <li>usd_goal : converted goal amount to USD equivalent for comparision</li>\n",
    "    <li>state : Converted to title case for better using as label </li>\n",
    "    <li>pledge_count_ratio : Pledge amount / no of backer</li>\n",
    "    <li>pledge_goal_ratio : Pledge amount / goal amount received</li>\n",
    "    <li>pledge_extra_goal_ratio : (Pledge amount- goal amount) / goal amount received</li>\n",
    "    <li>deadline_days : Deadline date- Project start date</li>\n",
    "    <li>state_change_days : State change date- Project start date</li>\n",
    "    <li></li>\n",
    "    </ul>\n",
    "</li>     \n",
    "<li>  The single pickle files created to use further in project . This make easier to use data in later stages</li> \n",
    "    \n",
    "</ol>\n",
    "</div>"
   ]
  },
  {
   "cell_type": "code",
   "execution_count": null,
   "metadata": {
    "collapsed": true,
    "scrolled": true
   },
   "outputs": [],
   "source": [
    "pd.set_option('display.max_colwidth', -1)\n",
    "stateSuccess='Successful'\n",
    "stateFail='Failed'"
   ]
  },
  {
   "cell_type": "code",
   "execution_count": null,
   "metadata": {
    "scrolled": true
   },
   "outputs": [],
   "source": [
    "# from IPython.core.display import HTML\n",
    "css = open('style/style-table.css').read() + open('style/style-notebook.css').read()\n",
    "HTML('<style>{}</style>'.format(css))\n",
    "pickle_file='Jan2017_Jan2018.sa'"
   ]
  },
  {
   "cell_type": "code",
   "execution_count": null,
   "metadata": {
    "collapsed": true,
    "scrolled": true
   },
   "outputs": [],
   "source": [
    "# reading previous pickel file\n",
    "df_all_months = pickle.load( open( pickle_file, \"rb\" ) )"
   ]
  },
  {
   "cell_type": "markdown",
   "metadata": {},
   "source": [
    "#### check all the below when new month added"
   ]
  },
  {
   "cell_type": "code",
   "execution_count": null,
   "metadata": {
    "collapsed": true,
    "scrolled": true
   },
   "outputs": [],
   "source": [
    "# check all the below when new month added\n",
    "#check project without goal, amount. check if new month added\n",
    "#df_final_months[(df_final_months.goal<=0 )]\n",
    "#df_final_months[(df_final_months.pledged<=0 )& (df_final_months.backers_count<=0 )]\n",
    "\n",
    "# check distinctt state\n",
    "#df_final_months.state.unique()\n",
    "\n",
    "# check suspened and exclude\n",
    "#df_final_months[df_final_months.state=='suspended']\n",
    "\n",
    "# check canceled and exclude\n",
    "#df_final_months[df_final_months.state=='canceled']"
   ]
  },
  {
   "cell_type": "markdown",
   "metadata": {},
   "source": [
    "## Data manipulation helping methods"
   ]
  },
  {
   "cell_type": "code",
   "execution_count": null,
   "metadata": {
    "collapsed": true,
    "scrolled": true
   },
   "outputs": [],
   "source": [
    "def convertCamelCase(name):\n",
    "    s1 = re.sub('(.)([A-Z][a-z]+)', r'\\1_\\2', name)\n",
    "    return re.sub('([a-z0-9])([A-Z])', r'\\1_\\2', s1).lower()"
   ]
  },
  {
   "cell_type": "code",
   "execution_count": null,
   "metadata": {
    "collapsed": true,
    "scrolled": true
   },
   "outputs": [],
   "source": [
    "def convertTitleCase(name):\n",
    "    return name.title()"
   ]
  },
  {
   "cell_type": "code",
   "execution_count": null,
   "metadata": {
    "collapsed": true,
    "scrolled": true
   },
   "outputs": [],
   "source": [
    "def convertTitleCase_State(row):\n",
    "    return convertTitleCase(row)"
   ]
  },
  {
   "cell_type": "code",
   "execution_count": null,
   "metadata": {
    "collapsed": true,
    "scrolled": true
   },
   "outputs": [],
   "source": [
    "def calculate_ratio(numerator, denominator):\n",
    "    ratio=0\n",
    "    if(denominator>0).any():\n",
    "        ratio=numerator/denominator\n",
    "    return np.round(ratio,3)"
   ]
  },
  {
   "cell_type": "code",
   "execution_count": null,
   "metadata": {
    "collapsed": true,
    "scrolled": true
   },
   "outputs": [],
   "source": [
    "def get_days_difference(date_from, date_to):\n",
    "    print(date_from-date_to)#.days"
   ]
  },
  {
   "cell_type": "code",
   "execution_count": null,
   "metadata": {
    "collapsed": true,
    "scrolled": true
   },
   "outputs": [],
   "source": [
    "def compare_dates(from_date, to_date):\n",
    "    date_format = '%Y-%m-%d %H:%M:%S'#'%Y/%m/%d'\n",
    "    from_date_val = datetime.strptime(from_date, date_format)  \n",
    "    to_date_val= datetime.strptime(to_date, date_format)  \n",
    "    #today = datetime.today()\n",
    "    diff = from_date_val - to_date_val\n",
    "    return diff.days"
   ]
  },
  {
   "cell_type": "code",
   "execution_count": null,
   "metadata": {
    "collapsed": true,
    "scrolled": true
   },
   "outputs": [],
   "source": [
    "def diff_deadline_dates(row):\n",
    "    return compare_dates(row.deadline,row.launched_at)"
   ]
  },
  {
   "cell_type": "code",
   "execution_count": null,
   "metadata": {
    "collapsed": true,
    "scrolled": true
   },
   "outputs": [],
   "source": [
    "def diff_state_changed_dates(row):\n",
    "    return compare_dates(row.state_changed_at,row.launched_at)"
   ]
  },
  {
   "cell_type": "code",
   "execution_count": null,
   "metadata": {
    "collapsed": true,
    "scrolled": true
   },
   "outputs": [],
   "source": [
    "def convertToDateFormat(val):\n",
    "    date_format = '%Y-%m-%d %H:%M:%S'\n",
    "    return datetime.strptime(val,date_format)\n",
    "\n",
    "def convertCreateDateToDateFormat(row):\n",
    "    return convertToDateFormat(row)\n",
    "def getMonth(row):\n",
    "    date_format = '%Y-%m-%d %H:%M:%S'\n",
    "    return datetime.strptime(row.launched_at,date_format).month\n",
    "    #print (type(row.created_at))\n",
    "def getYear(row):\n",
    "    date_format = '%Y-%m-%d %H:%M:%S'\n",
    "    return datetime.strptime(row.launched_at,date_format).year"
   ]
  },
  {
   "cell_type": "code",
   "execution_count": null,
   "metadata": {
    "collapsed": true
   },
   "outputs": [],
   "source": [
    "def convertUnixTimeToDateTime(input):\n",
    "        return ( datetime.datetime.fromtimestamp(int(input)).strftime('%Y-%m-%d %H:%M:%S'))"
   ]
  },
  {
   "cell_type": "markdown",
   "metadata": {},
   "source": [
    "## Seleting & renaming some fields for main dataframe"
   ]
  },
  {
   "cell_type": "code",
   "execution_count": null,
   "metadata": {
    "collapsed": true,
    "scrolled": true
   },
   "outputs": [],
   "source": [
    "#df_final_months=df_all_months[\n",
    "df_final_months=df_all_months.loc[:,\n",
    "    ['id',\n",
    "'Catgegory_val',\n",
    "'backers_count',\n",
    "'country',\n",
    "'location_type',\n",
    "'created_at_val',\n",
    "'deadline_val',  \n",
    "'goal',\n",
    "'launched_at_val', \n",
    "'name',\n",
    "'pledged',\n",
    "'spotlight', \n",
    "'staff_pick',\n",
    "'state',\n",
    "'state_changed_at_val',  \n",
    "'usd_pledged',\n",
    "'userid'\n",
    "]]\n",
    "_=df_final_months.set_index('id')\n",
    "_=df_final_months.rename(columns={'id': 'project_id', 'Catgegory_val': 'category',\n",
    "                                'created_at_val':'created_at','launched_at_val':'launched_at',\n",
    "                                'state_changed_at_val':'state_changed_at','deadline_val':'deadline'}, inplace=True)"
   ]
  },
  {
   "cell_type": "markdown",
   "metadata": {},
   "source": [
    "#### Adding and modifyng columns"
   ]
  },
  {
   "cell_type": "code",
   "execution_count": null,
   "metadata": {
    "scrolled": true
   },
   "outputs": [],
   "source": [
    "# calculating exchange rate and using it to get the USD value for goal for non -USD projects\n",
    "exchange_rate_ser= df_final_months.usd_pledged/df_final_months.pledged\n",
    "df_final_months = df_final_months.assign( exchange_rate=pd.to_numeric( exchange_rate_ser.fillna('1')))\n",
    "df_final_months=df_final_months.assign(usd_goal= lambda row : row.goal * (row.exchange_rate))"
   ]
  },
  {
   "cell_type": "code",
   "execution_count": null,
   "metadata": {
    "scrolled": true
   },
   "outputs": [],
   "source": [
    "# converting State to title case\n",
    "df_final_months['state'] = df_final_months['state'].apply(convertTitleCase_State)"
   ]
  },
  {
   "cell_type": "code",
   "execution_count": null,
   "metadata": {
    "scrolled": true
   },
   "outputs": [],
   "source": [
    "# calculting and adding pledge count ration pledge goal ration and pledge extra goal ration columns\n",
    "df_final_months=df_final_months.assign(\n",
    "    pledge_count_ratio=lambda row: calculate_ratio(row.usd_pledged,row.backers_count)\n",
    ")\n",
    "df_final_months=df_final_months.assign(\n",
    "    pledge_goal_ratio=lambda row: calculate_ratio(row.usd_pledged,row.usd_goal))\n",
    "\n",
    "df_final_months=df_final_months.assign(\n",
    "    pledge_extra_goal_ratio=lambda row: calculate_ratio((row.usd_pledged-row.usd_goal),row.usd_pledged))\n",
    "\n",
    "df_final_months['pledge_count_ratio'].fillna(0,inplace=True)\n",
    "df_final_months['pledge_goal_ratio'].fillna(0,inplace=True)\n",
    "df_final_months['pledge_extra_goal_ratio'].fillna(0,inplace=True)\n"
   ]
  },
  {
   "cell_type": "code",
   "execution_count": null,
   "metadata": {
    "scrolled": true
   },
   "outputs": [],
   "source": [
    "# adding deadline days and state change days \n",
    "df_final_months['deadline_days']=df_final_months.apply(diff_deadline_dates,axis=1)\n",
    "df_final_months['state_change_days']=df_final_months.apply(diff_state_changed_dates,axis=1)"
   ]
  },
  {
   "cell_type": "code",
   "execution_count": null,
   "metadata": {
    "collapsed": true,
    "scrolled": true
   },
   "outputs": [],
   "source": [
    "# use if precise hours is needed , currently not needed\n",
    "#df_fail_success=df_fail_success.assign(deadline_days_hrs=lambda row : pd.to_datetime(row.deadline)-pd.to_datetime(row.launched_at))\n",
    "#df_fail_success=df_fail_success.assign(state_change_days_hrs=lambda row : pd.to_datetime(row.state_changed_at)-pd.to_datetime(row.launched_at))"
   ]
  },
  {
   "cell_type": "code",
   "execution_count": null,
   "metadata": {
    "scrolled": true
   },
   "outputs": [],
   "source": [
    "# setting staff pick as category\n",
    "_=df_final_months.staff_pick.astype('category')"
   ]
  },
  {
   "cell_type": "markdown",
   "metadata": {},
   "source": [
    "#### Saving the pickel file to use later"
   ]
  },
  {
   "cell_type": "code",
   "execution_count": null,
   "metadata": {
    "collapsed": true
   },
   "outputs": [],
   "source": [
    "picklefilename='DataStory_Jan2017_Jan2018.sa'\n",
    "pickle.dump(df_final_months,open(picklefilename,'wb'))"
   ]
  },
  {
   "cell_type": "code",
   "execution_count": null,
   "metadata": {
    "collapsed": true
   },
   "outputs": [],
   "source": [
    "# check pickle file\n",
    "upickle_df = pickle.load(open(picklefilename,\"rb\"))"
   ]
  },
  {
   "cell_type": "code",
   "execution_count": null,
   "metadata": {
    "collapsed": true
   },
   "outputs": [],
   "source": [
    "upickle_df.info()"
   ]
  }
 ],
 "metadata": {
  "kernelspec": {
   "display_name": "Python 3",
   "language": "python",
   "name": "python3"
  },
  "language_info": {
   "codemirror_mode": {
    "name": "ipython",
    "version": 3
   },
   "file_extension": ".py",
   "mimetype": "text/x-python",
   "name": "python",
   "nbconvert_exporter": "python",
   "pygments_lexer": "ipython3",
   "version": "3.6.2"
  }
 },
 "nbformat": 4,
 "nbformat_minor": 2
}
