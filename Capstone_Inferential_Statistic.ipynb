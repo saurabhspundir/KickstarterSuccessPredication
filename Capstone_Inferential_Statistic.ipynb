{
 "cells": [
  {
   "cell_type": "code",
   "execution_count": 1,
   "metadata": {
    "collapsed": true
   },
   "outputs": [],
   "source": [
    "import numpy as np\n",
    "import pandas as pd\n",
    "import pickle\n",
    "from IPython.core.display import HTML\n",
    "import scipy.stats as stats\n",
    "import statsmodels.stats.weightstats as wstats"
   ]
  },
  {
   "cell_type": "markdown",
   "metadata": {},
   "source": [
    "<div class=\"span5 alert alert-info\">\n",
    "<h2>Note book details</h2>\n",
    "\n",
    "<p> This notebook is for <b>data story</b> for <b>kickstarter success prediction</b> project.</p>\n",
    "\n",
    "<p> Notes.</p>\n",
    "<ol>\n",
    "<li>  The file will statistical analysis to establish whether one field has a significant impact on the another</li> \n",
    "<li>  The file will address the explore some hypothesis on the data</li> \n",
    "<li>What are the null and alternate hypotheses?</li>\n",
    "<li>Compute margin of error, confidence interval, and p-value.</li>\n",
    "<li>Write a story describing the statistical significance in the context or the original problem.</li>\n",
    "<li> Explore following data and hypothesis : \n",
    "    <ul>\n",
    "     <li>Exploration 1 :No of backer for fail and successful projects</li>\n",
    "    </ul>\n",
    "</li>        \n",
    "</ol>\n",
    "</div>"
   ]
  },
  {
   "cell_type": "code",
   "execution_count": 2,
   "metadata": {
    "collapsed": true
   },
   "outputs": [],
   "source": [
    "pd.set_option('display.max_colwidth', -1)\n",
    "color_success='#00ff66'#kickstarter green#'#2BDE73'\n",
    "color_fail='#FF192F'#'#FFC7CE'#'#FFC7CE'#'#FF0000' # red\n",
    "stateSuccess='Successful'\n",
    "stateFail='Failed'\n",
    "# the statistical significance value is 5%\n",
    "siginificane_level =0.005\n",
    "# for 95% the critcal z value is 1.96 ( based on z table)\n",
    "critical_value =1.96\n",
    "noofsample=100"
   ]
  },
  {
   "cell_type": "code",
   "execution_count": 3,
   "metadata": {},
   "outputs": [],
   "source": [
    "# from IPython.core.display import HTML\n",
    "css = open('style/style-table.css').read() + open('style/style-notebook.css').read()\n",
    "cssAnalysis = '.analysis {background:#5bffc0; }'\n",
    "HTML('<style>{} {}</style>'.format(css,cssAnalysis))\n",
    "pickle_file='DataStory_Jan2017_Jan2018.sa'\n",
    "df_final_months = pickle.load( open( pickle_file, \"rb\" ) )\n",
    "#df_final_months.info()\n",
    "#df_final_months.head()"
   ]
  },
  {
   "cell_type": "code",
   "execution_count": 4,
   "metadata": {
    "collapsed": true
   },
   "outputs": [],
   "source": [
    "# filter out suspened, cancleed and live projects\n",
    "df_fail_success= df_final_months[(df_final_months.state==stateSuccess) | (df_final_months.state==stateFail)]\n",
    "_=df_fail_success.set_index('project_id')\n",
    "#df_fail_success.head()"
   ]
  },
  {
   "cell_type": "markdown",
   "metadata": {
    "collapsed": true
   },
   "source": [
    "##  Analysis start"
   ]
  },
  {
   "cell_type": "markdown",
   "metadata": {
    "collapsed": true
   },
   "source": [
    "<div class=\"span5 alert alert-info\">\n",
    "<h4>\n",
    "Exploration 1 :No of backer for fail and successful projects</h4>\n",
    "</div>"
   ]
  },
  {
   "cell_type": "code",
   "execution_count": 5,
   "metadata": {
    "collapsed": true
   },
   "outputs": [],
   "source": [
    "analyzecol='backers_count'\n",
    "dfHypo=df_fail_success.loc[:,['state',analyzecol,'usd_goal']]"
   ]
  },
  {
   "cell_type": "markdown",
   "metadata": {},
   "source": [
    "#### Get the dataframe"
   ]
  },
  {
   "cell_type": "code",
   "execution_count": 6,
   "metadata": {},
   "outputs": [],
   "source": [
    "#dfHypo_success=GetCLTDataframe(dfHypo[dfHypo.state==stateSuccess],analyzecol,noofsample)\n",
    "#dfHypo_fail=GetCLTDataframe(dfHypo[dfHypo.state==stateFail],analyzecol,noofsample)\n",
    "\n",
    "dfHypo_success=df_fail_success[dfHypo.state==stateSuccess].loc[:,['state',analyzecol]]\n",
    "dfHypo_fail=df_fail_success[dfHypo.state==stateFail].loc[:,['state',analyzecol]]"
   ]
  },
  {
   "cell_type": "code",
   "execution_count": 7,
   "metadata": {},
   "outputs": [
    {
     "data": {
      "text/plain": [
       "count    74847.000000 \n",
       "mean     291.705680   \n",
       "std      1844.760094  \n",
       "min      1.000000     \n",
       "25%      34.000000    \n",
       "50%      72.000000    \n",
       "75%      173.000000   \n",
       "max      219382.000000\n",
       "Name: backers_count, dtype: float64"
      ]
     },
     "execution_count": 7,
     "metadata": {},
     "output_type": "execute_result"
    }
   ],
   "source": [
    "dfHypo_success.backers_count.describe()"
   ]
  },
  {
   "cell_type": "code",
   "execution_count": 8,
   "metadata": {},
   "outputs": [
    {
     "data": {
      "text/plain": [
       "count    82896.000000\n",
       "mean     15.552765   \n",
       "std      82.981983   \n",
       "min      0.000000    \n",
       "25%      1.000000    \n",
       "50%      3.000000    \n",
       "75%      10.000000   \n",
       "max      6550.000000 \n",
       "Name: backers_count, dtype: float64"
      ]
     },
     "execution_count": 8,
     "metadata": {},
     "output_type": "execute_result"
    }
   ],
   "source": [
    "dfHypo_fail.backers_count.describe()"
   ]
  },
  {
   "cell_type": "code",
   "execution_count": 9,
   "metadata": {},
   "outputs": [
    {
     "data": {
      "text/plain": [
       "276.1529146761072"
      ]
     },
     "execution_count": 9,
     "metadata": {},
     "output_type": "execute_result"
    }
   ],
   "source": [
    "mean_success_backers_count=dfHypo_success.backers_count.mean()\n",
    "mean_fail_backers_count=dfHypo_fail.backers_count.mean()\n",
    "mean_diff_backers_count=mean_success_backers_count-mean_fail_backers_count\n",
    "mean_diff_backers_count\n"
   ]
  },
  {
   "cell_type": "markdown",
   "metadata": {},
   "source": [
    "<div class=\"span5 alert alert-info\" style=\"background-color:#ffff66; color:black\">\n",
    "\n",
    "There is difference between the mean of backer_counts between successful and failed project. We can further analyze this  hypothesis. <b>Answer :</b> The hypothesis are as follows\n",
    "    <br/>\n",
    "    <b> Null Hypothesis : </b> There is <b>no</b> difference in no of backer in successful or failed project. Which <i>means for no of backers for successful - means for no of backers for failed</i> equals <b>Zero</b> .\n",
    "    <br/>\n",
    "    <b> Alternate Hypothesis :  </b> There is <b>siginifcant</b> difference in no of backer in successful or failed project. Which <i>means for no of backers for successful - means for no of backers for failed</i> not equals <b>Zero</b> .\n",
    "</div>"
   ]
  },
  {
   "cell_type": "markdown",
   "metadata": {},
   "source": [
    "#### Calculate Z scorw and p score for this "
   ]
  },
  {
   "cell_type": "code",
   "execution_count": 10,
   "metadata": {},
   "outputs": [
    {
     "name": "stdout",
     "output_type": "stream",
     "text": [
      "The z stat is 43.05172748164478 and p value is 0.0\n"
     ]
    }
   ],
   "source": [
    "zstat, pvalue = wstats.ztest(dfHypo_success[analyzecol], dfHypo_fail[analyzecol], alternative='two-sided',\n",
    "                    value=0, usevar='pooled', ddof=1.0)\n",
    "print ('The z stat is {} and p value is {}'.format(zstat,pvalue))"
   ]
  },
  {
   "cell_type": "code",
   "execution_count": 11,
   "metadata": {},
   "outputs": [
    {
     "name": "stdout",
     "output_type": "stream",
     "text": [
      "The z stat is 43.05172748164478 and p value is 0.0\n"
     ]
    }
   ],
   "source": [
    "zstat, pvalue = wstats.ztest(dfHypo_success[analyzecol], dfHypo_fail[analyzecol], alternative='larger',#'smaller',\n",
    "                    value=0, usevar='pooled', ddof=1.0)\n",
    "print ('The z stat is {} and p value is {}'.format(zstat,pvalue))"
   ]
  },
  {
   "cell_type": "markdown",
   "metadata": {},
   "source": [
    "####  Calculate T score and p value to test same hypothesis"
   ]
  },
  {
   "cell_type": "code",
   "execution_count": 12,
   "metadata": {},
   "outputs": [
    {
     "name": "stdout",
     "output_type": "stream",
     "text": [
      "t-statistic:  40.9166979163\n",
      "p-value:  0.0\n"
     ]
    }
   ],
   "source": [
    "# T-score\n",
    "tstat, p_from_t = stats.ttest_ind(dfHypo_success[analyzecol], dfHypo_fail[analyzecol], equal_var=False)\n",
    "print('t-statistic: ', tstat)\n",
    "print('p-value: ', p_from_t)"
   ]
  },
  {
   "cell_type": "code",
   "execution_count": 13,
   "metadata": {},
   "outputs": [
    {
     "name": "stdout",
     "output_type": "stream",
     "text": [
      "The calulcated p value is lower then 0.05 % significant value will allow to reject the null hypothesis\n"
     ]
    }
   ],
   "source": [
    "if (p_from_t<siginificane_level):\n",
    "    print ('The calulcated p value is lower then 0.05 % significant value will allow to reject the null hypothesis')\n",
    "else:\n",
    "    print('Null hypotheses is true')"
   ]
  },
  {
   "cell_type": "markdown",
   "metadata": {},
   "source": [
    "<div class=\"span5 alert alert-info analysis\" >\n",
    "<h4>\n",
    "Conclusion : Exploration 1 :No of backer for fail and successful projects</h4>\n",
    "    <ul>\n",
    "     <li> There is enough evidence to reject Null hypothesis </li> \n",
    "     <li> The conculsion is that no of backer for failed and successful  project vaires </li> \n",
    "    </ul>\n",
    "</div>"
   ]
  },
  {
   "cell_type": "code",
   "execution_count": null,
   "metadata": {
    "collapsed": true
   },
   "outputs": [],
   "source": []
  }
 ],
 "metadata": {
  "kernelspec": {
   "display_name": "Python 3",
   "language": "python",
   "name": "python3"
  },
  "language_info": {
   "codemirror_mode": {
    "name": "ipython",
    "version": 3
   },
   "file_extension": ".py",
   "mimetype": "text/x-python",
   "name": "python",
   "nbconvert_exporter": "python",
   "pygments_lexer": "ipython3",
   "version": "3.6.2"
  }
 },
 "nbformat": 4,
 "nbformat_minor": 2
}
