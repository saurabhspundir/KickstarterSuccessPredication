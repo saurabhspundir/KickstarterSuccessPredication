{
 "cells": [
  {
   "cell_type": "code",
   "execution_count": 1,
   "metadata": {
    "collapsed": true
   },
   "outputs": [],
   "source": [
    "import distutils\n",
    "import distutils.util\n",
    "import numpy as np\n",
    "import matplotlib\n",
    "import matplotlib.pyplot as plt\n",
    "import seaborn as sns\n",
    "import pandas as pd\n",
    "import os\n",
    "import os.path as opath\n",
    "import ast\n",
    "import json\n",
    "from pandas.io.json import json_normalize\n",
    "import datetime\n",
    "import pickle\n",
    "import re\n",
    "from datetime import datetime\n",
    "from IPython.core.display import HTML\n",
    "from IPython.core.interactiveshell import InteractiveShell\n",
    "import scipy.stats as stats\n",
    "import statsmodels.stats.weightstats as wstats\n",
    "import math\n",
    "import random \n",
    "import scipy\n",
    "import scipy.stats as stats\n",
    "InteractiveShell.ast_node_interactivity = \"all\"\n",
    "from sklearn import preprocessing\n",
    "%matplotlib inline"
   ]
  },
  {
   "cell_type": "markdown",
   "metadata": {},
   "source": [
    "<div class=\"span5 alert alert-info\">\n",
    "<h2>Note book details</h2>\n",
    "\n",
    "<p> This notebook is for <b>data story</b> for <b>kickstarter success prediction</b> project.</p>\n",
    "\n",
    "<p> Notes.</p>\n",
    "<ol>\n",
    "<li>  The file will statistical analysis to establish whether one field has a significant impact on the another</li> \n",
    "<li>  The file will address the explore some hypothesis on the data</li> \n",
    "<li>What are the null and alternate hypotheses?</li>\n",
    "<li>Compute margin of error, confidence interval, and p-value.</li>\n",
    "<li>Write a story describing the statistical significance in the context or the original problem.</li>\n",
    "<li>  The hypothesis analyzed are as follows: \n",
    "    <ul>\n",
    "     <li>Hypothesis 1 :Whether no of backer has a significant different for fail and successful projects</li>\n",
    "     <li>Hypothesis 2 :Does your analysis mean that staff pick has impact on  success?</li>\n",
    "     <li>Question 1 :What is range pledge amount range for successful & failed projects with high confidence ?</li>\n",
    "     <li>Question 2 :What is range goal amount range for successful & failed projects with high confidence ?</li>\n",
    "    </ul>\n",
    "</li>        \n",
    "</ol>\n",
    "</div>"
   ]
  },
  {
   "cell_type": "code",
   "execution_count": 2,
   "metadata": {},
   "outputs": [],
   "source": [
    "pd.set_option('display.max_colwidth', -1)\n",
    "color_success='#00ff66'#kickstarter green#'#2BDE73'\n",
    "color_fail='#FF192F'#'#FFC7CE'#'#FFC7CE'#'#FF0000' # red\n",
    "stateSuccess='Successful'\n",
    "stateFail='Failed'\n",
    "# the statistical significance value is 5%\n",
    "siginificane_level =0.005\n",
    "# for 95% the critcal z value is 1.96 ( based on z table)\n",
    "critical_value =1.96\n",
    "noofsample=100"
   ]
  },
  {
   "cell_type": "code",
   "execution_count": 3,
   "metadata": {},
   "outputs": [
    {
     "data": {
      "text/html": [
       "<style>body {\n",
       "    margin: 0;\n",
       "    font-family: Helvetica;\n",
       "}\n",
       "table.dataframe {\n",
       "    border-collapse: collapse;\n",
       "    border: none;\n",
       "}\n",
       "table.dataframe tr {\n",
       "    border: none;\n",
       "}\n",
       "table.dataframe td, table.dataframe th {\n",
       "    margin: 0;\n",
       "    border: 1px solid white;\n",
       "    padding-left: 0.25em;\n",
       "    padding-right: 0.25em;\n",
       "}\n",
       "table.dataframe th:not(:empty) {\n",
       "    background-color: #fec;\n",
       "    text-align: left;\n",
       "    font-weight: normal;\n",
       "}\n",
       "table.dataframe tr:nth-child(2) th:empty {\n",
       "    border-left: none;\n",
       "    border-right: 1px dashed #888;\n",
       "}\n",
       "table.dataframe td {\n",
       "    border: 2px solid #ccf;\n",
       "    background-color: #f4f4ff;\n",
       "}\n",
       "h3 {\n",
       "    color: white;\n",
       "    background-color: black;\n",
       "    padding: 0.5em;\n",
       "}\n",
       " .analysis {background:#5bffc0; }</style>"
      ],
      "text/plain": [
       "<IPython.core.display.HTML object>"
      ]
     },
     "execution_count": 3,
     "metadata": {},
     "output_type": "execute_result"
    }
   ],
   "source": [
    "# from IPython.core.display import HTML\n",
    "css = open('style/style-table.css').read() + open('style/style-notebook.css').read()\n",
    "cssAnalysis = '.analysis {background:#5bffc0; }'\n",
    "HTML('<style>{} {}</style>'.format(css,cssAnalysis))\n",
    "pickle_file='DataStory_Jan2017_Jan2018.sa'\n",
    "df_final_months = pickle.load( open( pickle_file, \"rb\" ) )\n",
    "#df_final_months.info()\n",
    "#df_final_months.head()"
   ]
  },
  {
   "cell_type": "code",
   "execution_count": 4,
   "metadata": {
    "collapsed": true
   },
   "outputs": [],
   "source": [
    "# filter out suspened, cancleed and live projects\n",
    "df_fail_success= df_final_months[(df_final_months.state==stateSuccess) | (df_final_months.state==stateFail)]\n",
    "_=df_fail_success.set_index('project_id')\n",
    "#df_fail_success.head()"
   ]
  },
  {
   "cell_type": "markdown",
   "metadata": {},
   "source": [
    "## Helper methods"
   ]
  },
  {
   "cell_type": "code",
   "execution_count": 5,
   "metadata": {
    "collapsed": true
   },
   "outputs": [],
   "source": [
    "def CreateSampleofSample(df,col,numberineachsample):\n",
    "    listofrecord = list(df[analyzecol])\n",
    "    totalofsample=len(listofrecord)\n",
    "    for a in range(0,int(totalofsample/numberineachsample)):\n",
    "        yield (round(np.average(random.sample(listofrecord, numberineachsample)),0))"
   ]
  },
  {
   "cell_type": "code",
   "execution_count": 6,
   "metadata": {
    "collapsed": true
   },
   "outputs": [],
   "source": [
    "def GetDataFrameFromList(listofval,colname):\n",
    "    return pd.DataFrame({colname:listofval})"
   ]
  },
  {
   "cell_type": "code",
   "execution_count": 7,
   "metadata": {
    "collapsed": true
   },
   "outputs": [],
   "source": [
    "def GetCLTDataframe(df,col,numberineachsample):\n",
    "    returnval= []\n",
    "    returnval.extend(CreateSampleofSample(df,analyzecol, numberineachsample))\n",
    "    return GetDataFrameFromList(returnval,analyzecol)\n",
    "    "
   ]
  },
  {
   "cell_type": "markdown",
   "metadata": {
    "collapsed": true
   },
   "source": [
    "##  Hypothesis testing start"
   ]
  },
  {
   "cell_type": "markdown",
   "metadata": {
    "collapsed": true
   },
   "source": [
    "<div class=\"span5 alert alert-info\">\n",
    "<h4>\n",
    "1 :Whether no of backer has a significant different for fail and successful projects?</h4>\n",
    "</div>"
   ]
  },
  {
   "cell_type": "markdown",
   "metadata": {},
   "source": [
    "<div class=\"span5 alert alert-info\" style=\"background-color:#ffff66; color:black\">\n",
    "<b>Answer :</b> The hypothesis are as follows\n",
    "    <br/>\n",
    "    <b> Null Hypothesis : </b> There is <b>no</b> difference in no of backer in successful or failed project. Which <i>means for no of backers for successful - means for no of backers for failed</i> equals <b>Zero</b> .\n",
    "    <br/>\n",
    "    <b> Alternate Hypothesis :  </b> There is <b>siginifcant</b> difference in no of backer in successful or failed project. Which <i>means for no of backers for successful - means for no of backers for failed</i> not equals <b>Zero</b> .\n",
    "</div>"
   ]
  },
  {
   "cell_type": "code",
   "execution_count": 8,
   "metadata": {},
   "outputs": [],
   "source": [
    "analyzecol='backers_count'\n",
    "dfHypo=df_fail_success.loc[:,['state',analyzecol,'usd_goal']]"
   ]
  },
  {
   "cell_type": "markdown",
   "metadata": {},
   "source": [
    "#### Get the dataframe with means of sample based on 100 no of sample in each "
   ]
  },
  {
   "cell_type": "code",
   "execution_count": 9,
   "metadata": {},
   "outputs": [],
   "source": [
    "dfHypo_success=GetCLTDataframe(dfHypo[dfHypo.state==stateSuccess],analyzecol,noofsample)\n",
    "dfHypo_fail=GetCLTDataframe(dfHypo[dfHypo.state==stateFail],analyzecol,noofsample)"
   ]
  },
  {
   "cell_type": "code",
   "execution_count": 10,
   "metadata": {},
   "outputs": [
    {
     "data": {
      "image/png": "[encoded data removed]",
      "text/plain": [
       "<matplotlib.figure.Figure at 0x279779eb470>"
      ]
     },
     "metadata": {},
     "output_type": "display_data"
    }
   ],
   "source": [
    "#check by plotting the graph\n",
    "#check by plotting the graph\n",
    "fig, axis = plt.subplots(figsize=(4,4),dpi=100)\n",
    "\n",
    "_=sns.distplot(dfHypo_success[analyzecol],bins=20,color=color_success,ax=axis)\n",
    "_=axis.set_title('Normal distribution of means of backer counts for successful project')"
   ]
  },
  {
   "cell_type": "code",
   "execution_count": 11,
   "metadata": {},
   "outputs": [
    {
     "data": {
      "image/png": "[encoded data removed]",
      "text/plain": [
       "<matplotlib.figure.Figure at 0x2797c654f98>"
      ]
     },
     "metadata": {},
     "output_type": "display_data"
    }
   ],
   "source": [
    "#check by plotting the graph\n",
    "fig, axis = plt.subplots(figsize=(4,4),dpi=100)\n",
    "\n",
    "_=sns.distplot(dfHypo_fail[analyzecol],bins=20,color=color_fail,ax=axis)\n",
    "_=axis.set_title('Normal distribution of means of backer counts for failed project')"
   ]
  },
  {
   "cell_type": "code",
   "execution_count": 12,
   "metadata": {},
   "outputs": [
    {
     "data": {
      "text/html": [
       "<div>\n",
       "<style>\n",
       "    .dataframe thead tr:only-child th {\n",
       "        text-align: right;\n",
       "    }\n",
       "\n",
       "    .dataframe thead th {\n",
       "        text-align: left;\n",
       "    }\n",
       "\n",
       "    .dataframe tbody tr th {\n",
       "        vertical-align: top;\n",
       "    }\n",
       "</style>\n",
       "<table border=\"1\" class=\"dataframe\">\n",
       "  <thead>\n",
       "    <tr style=\"text-align: right;\">\n",
       "      <th></th>\n",
       "      <th>backers_count</th>\n",
       "    </tr>\n",
       "  </thead>\n",
       "  <tbody>\n",
       "    <tr>\n",
       "      <th>count</th>\n",
       "      <td>748.000000</td>\n",
       "    </tr>\n",
       "    <tr>\n",
       "      <th>mean</th>\n",
       "      <td>296.609626</td>\n",
       "    </tr>\n",
       "    <tr>\n",
       "      <th>std</th>\n",
       "      <td>184.137535</td>\n",
       "    </tr>\n",
       "    <tr>\n",
       "      <th>min</th>\n",
       "      <td>112.000000</td>\n",
       "    </tr>\n",
       "    <tr>\n",
       "      <th>25%</th>\n",
       "      <td>206.750000</td>\n",
       "    </tr>\n",
       "    <tr>\n",
       "      <th>50%</th>\n",
       "      <td>250.500000</td>\n",
       "    </tr>\n",
       "    <tr>\n",
       "      <th>75%</th>\n",
       "      <td>326.000000</td>\n",
       "    </tr>\n",
       "    <tr>\n",
       "      <th>max</th>\n",
       "      <td>1937.000000</td>\n",
       "    </tr>\n",
       "  </tbody>\n",
       "</table>\n",
       "</div>"
      ],
      "text/plain": [
       "       backers_count\n",
       "count  748.000000   \n",
       "mean   296.609626   \n",
       "std    184.137535   \n",
       "min    112.000000   \n",
       "25%    206.750000   \n",
       "50%    250.500000   \n",
       "75%    326.000000   \n",
       "max    1937.000000  "
      ]
     },
     "execution_count": 12,
     "metadata": {},
     "output_type": "execute_result"
    }
   ],
   "source": [
    "dfHypo_success.describe()"
   ]
  },
  {
   "cell_type": "code",
   "execution_count": 13,
   "metadata": {},
   "outputs": [
    {
     "data": {
      "text/html": [
       "<div>\n",
       "<style>\n",
       "    .dataframe thead tr:only-child th {\n",
       "        text-align: right;\n",
       "    }\n",
       "\n",
       "    .dataframe thead th {\n",
       "        text-align: left;\n",
       "    }\n",
       "\n",
       "    .dataframe tbody tr th {\n",
       "        vertical-align: top;\n",
       "    }\n",
       "</style>\n",
       "<table border=\"1\" class=\"dataframe\">\n",
       "  <thead>\n",
       "    <tr style=\"text-align: right;\">\n",
       "      <th></th>\n",
       "      <th>backers_count</th>\n",
       "    </tr>\n",
       "  </thead>\n",
       "  <tbody>\n",
       "    <tr>\n",
       "      <th>count</th>\n",
       "      <td>828.000000</td>\n",
       "    </tr>\n",
       "    <tr>\n",
       "      <th>mean</th>\n",
       "      <td>15.567633</td>\n",
       "    </tr>\n",
       "    <tr>\n",
       "      <th>std</th>\n",
       "      <td>8.316823</td>\n",
       "    </tr>\n",
       "    <tr>\n",
       "      <th>min</th>\n",
       "      <td>6.000000</td>\n",
       "    </tr>\n",
       "    <tr>\n",
       "      <th>25%</th>\n",
       "      <td>11.000000</td>\n",
       "    </tr>\n",
       "    <tr>\n",
       "      <th>50%</th>\n",
       "      <td>14.000000</td>\n",
       "    </tr>\n",
       "    <tr>\n",
       "      <th>75%</th>\n",
       "      <td>17.000000</td>\n",
       "    </tr>\n",
       "    <tr>\n",
       "      <th>max</th>\n",
       "      <td>80.000000</td>\n",
       "    </tr>\n",
       "  </tbody>\n",
       "</table>\n",
       "</div>"
      ],
      "text/plain": [
       "       backers_count\n",
       "count  828.000000   \n",
       "mean   15.567633    \n",
       "std    8.316823     \n",
       "min    6.000000     \n",
       "25%    11.000000    \n",
       "50%    14.000000    \n",
       "75%    17.000000    \n",
       "max    80.000000    "
      ]
     },
     "execution_count": 13,
     "metadata": {},
     "output_type": "execute_result"
    }
   ],
   "source": [
    "dfHypo_fail.describe()"
   ]
  },
  {
   "cell_type": "markdown",
   "metadata": {},
   "source": [
    "#### Calculate Z scorw and p socre for this "
   ]
  },
  {
   "cell_type": "code",
   "execution_count": 14,
   "metadata": {},
   "outputs": [
    {
     "name": "stdout",
     "output_type": "stream",
     "text": [
      "The z stat is 43.870132496700215 and p value is 0.0\n"
     ]
    }
   ],
   "source": [
    "zstat, pvalue = wstats.ztest(dfHypo_success[analyzecol], dfHypo_fail[analyzecol], alternative='two-sided',\n",
    "                    value=0, usevar='pooled', ddof=1.0)\n",
    "print ('The z stat is {} and p value is {}'.format(zstat,pvalue))"
   ]
  },
  {
   "cell_type": "markdown",
   "metadata": {},
   "source": [
    "####  Calculate T score and p value to test same hypothesis"
   ]
  },
  {
   "cell_type": "code",
   "execution_count": 15,
   "metadata": {},
   "outputs": [
    {
     "name": "stdout",
     "output_type": "stream",
     "text": [
      "t-statistic:  41.7042079574\n",
      "p-value:  1.55455807326e-197\n"
     ]
    }
   ],
   "source": [
    "# T-score\n",
    "tstat, p_from_t = stats.ttest_ind(dfHypo_success[analyzecol], dfHypo_fail[analyzecol], equal_var=False)\n",
    "print('t-statistic: ', tstat)\n",
    "print('p-value: ', p_from_t)"
   ]
  },
  {
   "cell_type": "code",
   "execution_count": 16,
   "metadata": {},
   "outputs": [
    {
     "name": "stdout",
     "output_type": "stream",
     "text": [
      "The calulcated p value is lower then 0.05 % significant value will allow to reject the null hypothesis\n"
     ]
    }
   ],
   "source": [
    "if (p_from_t<siginificane_level):\n",
    "    print ('The calulcated p value is lower then 0.05 % significant value will allow to reject the null hypothesis')\n",
    "else:\n",
    "    print('Null hypotheses is true')"
   ]
  },
  {
   "cell_type": "markdown",
   "metadata": {},
   "source": [
    "<div class=\"span5 alert alert-info analysis\" >\n",
    "<h4>\n",
    "Conclusion : What is project count as per project status? What is successful and failed ratio ?</h4>\n",
    "    <ul>\n",
    "     <li> There is enough evidence to reject Null hypothesis </li> \n",
    "     <li> The conculsion is that pledge amount for failed and successful  project vaires  </li> \n",
    "    </ul>\n",
    "</div>"
   ]
  },
  {
   "cell_type": "markdown",
   "metadata": {
    "collapsed": true
   },
   "source": [
    "<div class=\"span5 alert alert-info\">\n",
    "<h4>\n",
    "2 :Does your analysis mean that staff pick has impact on  success?</h4>\n",
    "</div>"
   ]
  },
  {
   "cell_type": "markdown",
   "metadata": {},
   "source": [
    "<div class=\"span5 alert alert-info\" style=\"background-color:#ffff66; color:black\">\n",
    "<b>Answer :</b> The hypothesis are as follows\n",
    "    <br/>\n",
    "    <b> Null Hypothesis : </b> There is <b>no</b> difference in successful project with staff pick or without staff pick. Which <i>means for successful project with staff pick- successful prject with staff pick</i> equals <b>Zero</b> .\n",
    "    <br/>\n",
    "    <b> Null Hypothesis : </b> There is <b>no</b> difference in successful project with staff pick or without staff pick. Which <i>means for successful project with staff pick- successful prject with staff pick</i> not equals <b>Zero</b> . .\n",
    "</div>"
   ]
  },
  {
   "cell_type": "code",
   "execution_count": 17,
   "metadata": {
    "collapsed": true
   },
   "outputs": [],
   "source": [
    "analyzecol='staff_pick'\n",
    "dfHypo=df_fail_success.loc[:,['state',analyzecol]]"
   ]
  },
  {
   "cell_type": "markdown",
   "metadata": {},
   "source": [
    "#### Get the dataframe with means of sample based on 100 no of sample in each "
   ]
  },
  {
   "cell_type": "code",
   "execution_count": 18,
   "metadata": {},
   "outputs": [],
   "source": [
    "lab_enc = preprocessing.LabelEncoder()\n",
    "_=lab_enc.fit(dfHypo['state'])\n",
    "state_val = lab_enc.transform(dfHypo['state'])\n",
    "_=dfHypo.loc[:, 'state_val'] = state_val\n",
    "\n",
    "#state_val = lab_enc.transform(dfHypo_pick['state'])\n",
    "#dfHypo_pick.loc[:, 'state_val'] = state_val\n",
    "#state_val = lab_enc.transform(dfHypo_notpick['state'])\n",
    "#dfHypo_notpick.loc[:, 'state_val'] = state_val"
   ]
  },
  {
   "cell_type": "code",
   "execution_count": 19,
   "metadata": {},
   "outputs": [],
   "source": [
    "dfHypo_pick=dfHypo[dfHypo.staff_pick==1]\n",
    "dfHypo_notpick=dfHypo[dfHypo.staff_pick!=1]"
   ]
  },
  {
   "cell_type": "code",
   "execution_count": 20,
   "metadata": {},
   "outputs": [
    {
     "data": {
      "text/html": [
       "<div>\n",
       "<style>\n",
       "    .dataframe thead tr:only-child th {\n",
       "        text-align: right;\n",
       "    }\n",
       "\n",
       "    .dataframe thead th {\n",
       "        text-align: left;\n",
       "    }\n",
       "\n",
       "    .dataframe tbody tr th {\n",
       "        vertical-align: top;\n",
       "    }\n",
       "</style>\n",
       "<table border=\"1\" class=\"dataframe\">\n",
       "  <thead>\n",
       "    <tr style=\"text-align: right;\">\n",
       "      <th></th>\n",
       "      <th>state_val</th>\n",
       "    </tr>\n",
       "  </thead>\n",
       "  <tbody>\n",
       "    <tr>\n",
       "      <th>count</th>\n",
       "      <td>20967.000000</td>\n",
       "    </tr>\n",
       "    <tr>\n",
       "      <th>mean</th>\n",
       "      <td>0.836219</td>\n",
       "    </tr>\n",
       "    <tr>\n",
       "      <th>std</th>\n",
       "      <td>0.370086</td>\n",
       "    </tr>\n",
       "    <tr>\n",
       "      <th>min</th>\n",
       "      <td>0.000000</td>\n",
       "    </tr>\n",
       "    <tr>\n",
       "      <th>25%</th>\n",
       "      <td>1.000000</td>\n",
       "    </tr>\n",
       "    <tr>\n",
       "      <th>50%</th>\n",
       "      <td>1.000000</td>\n",
       "    </tr>\n",
       "    <tr>\n",
       "      <th>75%</th>\n",
       "      <td>1.000000</td>\n",
       "    </tr>\n",
       "    <tr>\n",
       "      <th>max</th>\n",
       "      <td>1.000000</td>\n",
       "    </tr>\n",
       "  </tbody>\n",
       "</table>\n",
       "</div>"
      ],
      "text/plain": [
       "          state_val\n",
       "count  20967.000000\n",
       "mean   0.836219    \n",
       "std    0.370086    \n",
       "min    0.000000    \n",
       "25%    1.000000    \n",
       "50%    1.000000    \n",
       "75%    1.000000    \n",
       "max    1.000000    "
      ]
     },
     "execution_count": 20,
     "metadata": {},
     "output_type": "execute_result"
    }
   ],
   "source": [
    "dfHypo_pick.describe()"
   ]
  },
  {
   "cell_type": "code",
   "execution_count": 21,
   "metadata": {
    "scrolled": true
   },
   "outputs": [
    {
     "data": {
      "text/html": [
       "<div>\n",
       "<style>\n",
       "    .dataframe thead tr:only-child th {\n",
       "        text-align: right;\n",
       "    }\n",
       "\n",
       "    .dataframe thead th {\n",
       "        text-align: left;\n",
       "    }\n",
       "\n",
       "    .dataframe tbody tr th {\n",
       "        vertical-align: top;\n",
       "    }\n",
       "</style>\n",
       "<table border=\"1\" class=\"dataframe\">\n",
       "  <thead>\n",
       "    <tr style=\"text-align: right;\">\n",
       "      <th></th>\n",
       "      <th>state_val</th>\n",
       "    </tr>\n",
       "  </thead>\n",
       "  <tbody>\n",
       "    <tr>\n",
       "      <th>count</th>\n",
       "      <td>136776.000000</td>\n",
       "    </tr>\n",
       "    <tr>\n",
       "      <th>mean</th>\n",
       "      <td>0.419036</td>\n",
       "    </tr>\n",
       "    <tr>\n",
       "      <th>std</th>\n",
       "      <td>0.493403</td>\n",
       "    </tr>\n",
       "    <tr>\n",
       "      <th>min</th>\n",
       "      <td>0.000000</td>\n",
       "    </tr>\n",
       "    <tr>\n",
       "      <th>25%</th>\n",
       "      <td>0.000000</td>\n",
       "    </tr>\n",
       "    <tr>\n",
       "      <th>50%</th>\n",
       "      <td>0.000000</td>\n",
       "    </tr>\n",
       "    <tr>\n",
       "      <th>75%</th>\n",
       "      <td>1.000000</td>\n",
       "    </tr>\n",
       "    <tr>\n",
       "      <th>max</th>\n",
       "      <td>1.000000</td>\n",
       "    </tr>\n",
       "  </tbody>\n",
       "</table>\n",
       "</div>"
      ],
      "text/plain": [
       "           state_val\n",
       "count  136776.000000\n",
       "mean   0.419036     \n",
       "std    0.493403     \n",
       "min    0.000000     \n",
       "25%    0.000000     \n",
       "50%    0.000000     \n",
       "75%    1.000000     \n",
       "max    1.000000     "
      ]
     },
     "execution_count": 21,
     "metadata": {},
     "output_type": "execute_result"
    }
   ],
   "source": [
    "dfHypo_notpick.describe()"
   ]
  },
  {
   "cell_type": "code",
   "execution_count": 22,
   "metadata": {},
   "outputs": [
    {
     "name": "stdout",
     "output_type": "stream",
     "text": [
      " The mean for staff pick project is 0.8362188200505556\n",
      " The standard deviation for staff pick project is 0.3700857162569254\n",
      " The varience for staff pick project is 0.13696343737740146\n",
      " The mean for non staff pick project is 0.4190355033046733\n",
      " The standard deviation for non staff pick project is 0.49340300988876445\n",
      " The varience for non staff pick project is 0.24344653016729217\n"
     ]
    }
   ],
   "source": [
    "# variable \n",
    "# for 95% the critcal z value is 1.96 ( based on z table)\n",
    "critical_value =1.96\n",
    "\n",
    "mean_staff_pick, sd_staff_pick, var_staff_pick= dfHypo_pick.state_val.mean(), dfHypo_pick.state_val.std(), dfHypo_pick.state_val.var()\n",
    "mean_non_staff_pick, sd_non_staff_pick, var_non_staff_pick= dfHypo_notpick.state_val.mean(), dfHypo_notpick.state_val.std(), dfHypo_notpick.state_val.var()\n",
    "\n",
    "print (' The mean for staff pick project is ' + str(mean_staff_pick))\n",
    "print (' The standard deviation for staff pick project is ' + str(sd_staff_pick))\n",
    "print (' The varience for staff pick project is ' + str(var_staff_pick))\n",
    "print (' The mean for non staff pick project is ' + str(mean_non_staff_pick))\n",
    "print (' The standard deviation for non staff pick project is ' + str(sd_non_staff_pick))\n",
    "print (' The varience for non staff pick project is ' + str(var_non_staff_pick))"
   ]
  },
  {
   "cell_type": "markdown",
   "metadata": {},
   "source": [
    "#### Mean for all calls based on bernoulli distribution is difference of  population mean (non_color) calls and population mean(color) calls"
   ]
  },
  {
   "cell_type": "code",
   "execution_count": 23,
   "metadata": {},
   "outputs": [
    {
     "data": {
      "text/plain": [
       "0.41718331674588227"
      ]
     },
     "execution_count": 23,
     "metadata": {},
     "output_type": "execute_result"
    }
   ],
   "source": [
    "difference_population_mean =mean_staff_pick-mean_non_staff_pick\n",
    "difference_population_mean"
   ]
  },
  {
   "cell_type": "markdown",
   "metadata": {},
   "source": [
    "####  Variance for all calls based on bernoulli distribution is sum of  Variance (non_color) calls and Variance(color) calls"
   ]
  },
  {
   "cell_type": "code",
   "execution_count": 24,
   "metadata": {},
   "outputs": [
    {
     "name": "stdout",
     "output_type": "stream",
     "text": [
      "The total staff pick project with success in population 17533\n",
      "The total staff pick project in population 20967\n",
      "The staff pick project with success /  total staff pick 0.8362188200505556\n",
      "The total non staff pick project with success in population 57314\n",
      "he total non staff pick project in population  136776\n",
      "The non staff pick project with success /  total non staff pick 0.4190355033046733\n",
      "The staff pick success variance 0.000001001323\n",
      "The non staff pick success variance 0.000001779879\n",
      "The total population varience 0.000002781202\n"
     ]
    }
   ],
   "source": [
    "# proporation calculation for staff pick project people\n",
    "length_staff_pick=len(dfHypo_pick)# total no of staff pick\n",
    "length_staff_pick_success=len(dfHypo_pick[dfHypo_pick.state_val==1]) # staff pick success\n",
    "proporation_staff_pick_success=length_staff_pick_success/length_staff_pick # population proporation of staff pick success\n",
    "print('The total staff pick project with success in population '+str(length_staff_pick_success))\n",
    "print('The total staff pick project in population '+str(length_staff_pick))\n",
    "print('The staff pick project with success /  total staff pick '+str(proporation_staff_pick_success))\n",
    "\n",
    "# proporation calculation for non colored people\n",
    "length_not_staff_pick=len(dfHypo_notpick)# total no of not staff pick\n",
    "length_non_staff_pick_sucess=len(dfHypo_notpick[dfHypo_notpick.state_val==1])#  not staff pick success\n",
    "proporation_not_staff_pick_success=length_non_staff_pick_sucess/length_not_staff_pick # population proporation of staff pick not success\n",
    "print('The total non staff pick project with success in population '+str(length_non_staff_pick_sucess))\n",
    "print('he total non staff pick project in population  '+str(length_not_staff_pick))\n",
    "print('The non staff pick project with success /  total non staff pick '+str(proporation_not_staff_pick_success))\n",
    "\n",
    "# calculate variance of color people\n",
    "#P(1-p)/N\n",
    "variance_staff_pick=(proporation_staff_pick_success*(1-proporation_staff_pick_success))/length_not_staff_pick\n",
    "print('The staff pick success variance %.12f' % float(variance_staff_pick))\n",
    "\n",
    "# calculate variance of non color people\n",
    "variance_non_staff_pick=(proporation_not_staff_pick_success*(1-proporation_not_staff_pick_success))/length_not_staff_pick\n",
    "print('The non staff pick success variance %.12f' % float(variance_non_staff_pick))\n",
    "\n",
    "population_variance=variance_staff_pick+variance_non_staff_pick\n",
    "\n",
    "print('The total population varience %.12f' % (float(population_variance)))"
   ]
  },
  {
   "cell_type": "markdown",
   "metadata": {},
   "source": [
    "####  standard deviation for all calls square root of total varaience"
   ]
  },
  {
   "cell_type": "code",
   "execution_count": 25,
   "metadata": {},
   "outputs": [
    {
     "name": "stdout",
     "output_type": "stream",
     "text": [
      "The total population standard deviation 0.0016676935524269536\n"
     ]
    }
   ],
   "source": [
    "# standard devaiation for total population\n",
    "population_standard_deviation=math.sqrt(population_variance)\n",
    "print('The total population standard deviation '+str(population_standard_deviation))"
   ]
  },
  {
   "cell_type": "markdown",
   "metadata": {},
   "source": [
    "#### 95 % chance which is critical value(1.96) that poupulaton mean (true mean) is within  difference of population  mean (0.032) will be Confidence interval"
   ]
  },
  {
   "cell_type": "code",
   "execution_count": 26,
   "metadata": {},
   "outputs": [
    {
     "name": "stdout",
     "output_type": "stream",
     "text": [
      "The confidence interval with 95 % 0.003268679362756829\n"
     ]
    }
   ],
   "source": [
    "# 95 % chance for confidence interval \n",
    "conf_interval= critical_value*population_standard_deviation\n",
    "\n",
    "print('The confidence interval with 95 % '+str(conf_interval))"
   ]
  },
  {
   "cell_type": "code",
   "execution_count": 27,
   "metadata": {},
   "outputs": [
    {
     "data": {
      "text/plain": [
       "array([ 0.41391464,  0.420452  ])"
      ]
     },
     "execution_count": 27,
     "metadata": {},
     "output_type": "execute_result"
    }
   ],
   "source": [
    "# margin of erro \n",
    "difference_population_mean+np.array([-1, 1]) * conf_interval"
   ]
  },
  {
   "cell_type": "code",
   "execution_count": 28,
   "metadata": {},
   "outputs": [
    {
     "name": "stdout",
     "output_type": "stream",
     "text": [
      "0.0037034445057331005\n"
     ]
    }
   ],
   "source": [
    "# null hypoths,p1=p2\n",
    "# z score for \n",
    "null_hypothese_proporation=(length_non_staff_pick_sucess+length_staff_pick_success)/(length_staff_pick+length_not_staff_pick)  #(157+235)/4870\n",
    "#new sd based on hypo= math.sqrt(2p*(1-p)/n)\n",
    "standard_deviation_z=math.sqrt((1*null_hypothese_proporation*(1-null_hypothese_proporation))*(((1/length_staff_pick)+(1/length_not_staff_pick))))\n",
    "print(standard_deviation_z)"
   ]
  },
  {
   "cell_type": "code",
   "execution_count": 29,
   "metadata": {},
   "outputs": [
    {
     "name": "stdout",
     "output_type": "stream",
     "text": [
      "112.64737897383463\n"
     ]
    }
   ],
   "source": [
    "#t=difference_population_mean-0/(new sd based on hypo)\n",
    "z_value = (difference_population_mean-0)/standard_deviation_z\n",
    "print (z_value)\n",
    "#z_value = (difference_population_mean-0)/standard_deviation_z\n",
    "#print (z_value)"
   ]
  },
  {
   "cell_type": "code",
   "execution_count": 30,
   "metadata": {},
   "outputs": [
    {
     "name": "stdout",
     "output_type": "stream",
     "text": [
      "The p value from the z value above is 0.000000000000\n"
     ]
    }
   ],
   "source": [
    "#p_value=stats.norm.cdf(z_value)\n",
    "p_value = scipy.stats.norm.sf(abs(z_value))*2\n",
    "print('The p value from the z value above is %.12f' %float(p_value))\n",
    "#print((p_value))"
   ]
  },
  {
   "cell_type": "code",
   "execution_count": 31,
   "metadata": {},
   "outputs": [
    {
     "name": "stdout",
     "output_type": "stream",
     "text": [
      "The calulcated z-score is higher then crital z value hence reject the null hypothesis\n"
     ]
    }
   ],
   "source": [
    "if (z_value>critical_value):\n",
    "    print ('The calulcated z-score is higher then crital z value hence reject the null hypothesis')\n",
    "else:\n",
    "    print('Null hypotheses is true')"
   ]
  },
  {
   "cell_type": "markdown",
   "metadata": {},
   "source": [
    "#### Recheck Z zcore using wstat"
   ]
  },
  {
   "cell_type": "code",
   "execution_count": 32,
   "metadata": {},
   "outputs": [
    {
     "name": "stdout",
     "output_type": "stream",
     "text": [
      "The z stat is 117.47059759 and p value is 0.0\n"
     ]
    }
   ],
   "source": [
    "zstat, pvalue = wstats.ztest(dfHypo_pick['state_val'],dfHypo_notpick['state_val'], alternative='two-sided',\n",
    "                    value=0, usevar='pooled', ddof=1.0)\n",
    "print ('The z stat is '+str(zstat)+ ' and p value is ' +str(pvalue))"
   ]
  },
  {
   "cell_type": "code",
   "execution_count": 33,
   "metadata": {},
   "outputs": [
    {
     "name": "stdout",
     "output_type": "stream",
     "text": [
      "The calulcated z-score is higher then crital z value hence reject the null hypothesis\n"
     ]
    }
   ],
   "source": [
    "if (zstat>critical_value):\n",
    "    print ('The calulcated z-score is higher then crital z value hence reject the null hypothesis')\n",
    "else:\n",
    "    print('Null hypotheses is true')"
   ]
  },
  {
   "cell_type": "code",
   "execution_count": 34,
   "metadata": {},
   "outputs": [
    {
     "name": "stdout",
     "output_type": "stream",
     "text": [
      "The calulcated p value is lower then 0.05 % significant value hence reject the null hypothesis\n"
     ]
    }
   ],
   "source": [
    "if (pvalue<siginificane_level):\n",
    "    print ('The calulcated p value is lower then 0.05 % significant value hence reject the null hypothesis')\n",
    "else:\n",
    "    print('Null hypotheses is true')"
   ]
  },
  {
   "cell_type": "markdown",
   "metadata": {},
   "source": [
    "#### Try checking null hypothesis usint T score"
   ]
  },
  {
   "cell_type": "code",
   "execution_count": 35,
   "metadata": {},
   "outputs": [
    {
     "name": "stdout",
     "output_type": "stream",
     "text": [
      "t-statistic:  144.699912663\n",
      "p-value:  0.0\n",
      "The calulcated t-score is higher then crital z value hence reject the null hypothesis\n",
      "The calulcated p value is lower then 0.05 % significant value hence reject the null hypothesis\n"
     ]
    }
   ],
   "source": [
    "# T-score\n",
    "tstat, p_from_t = stats.ttest_ind(dfHypo_pick['state_val'],dfHypo_notpick['state_val'],equal_var=False)\n",
    "print('t-statistic: ', tstat)\n",
    "print('p-value: ', p_from_t)\n",
    "\n",
    "if (tstat>critical_value):\n",
    "    print ('The calulcated t-score is higher then crital z value hence reject the null hypothesis')\n",
    "else:\n",
    "    print('Null hypotheses is true')\n",
    "\n",
    "siginificane_level =0.005\n",
    "if (p_from_t<siginificane_level):\n",
    "    print ('The calulcated p value is lower then 0.05 % significant value hence reject the null hypothesis')\n",
    "else:\n",
    "    print('Null hypotheses is true')"
   ]
  },
  {
   "cell_type": "code",
   "execution_count": 36,
   "metadata": {},
   "outputs": [
    {
     "name": "stdout",
     "output_type": "stream",
     "text": [
      "The calulcated t-score is higher then crital z value hence reject the null hypothesis\n"
     ]
    }
   ],
   "source": [
    "if (tstat>critical_value):\n",
    "    print ('The calulcated t-score is higher then crital z value hence reject the null hypothesis')\n",
    "else:\n",
    "    print('Null hypotheses is true')"
   ]
  },
  {
   "cell_type": "code",
   "execution_count": 37,
   "metadata": {},
   "outputs": [
    {
     "name": "stdout",
     "output_type": "stream",
     "text": [
      "The calulcated p value is lower then 0.05 % significant value hence reject the null hypothesis\n"
     ]
    }
   ],
   "source": [
    "if (p_from_t<siginificane_level):\n",
    "    print ('The calulcated p value is lower then 0.05 % significant value hence reject the null hypothesis')\n",
    "else:\n",
    "    print('Null hypotheses is true')"
   ]
  },
  {
   "cell_type": "markdown",
   "metadata": {},
   "source": [
    "<div class=\"span5 alert alert-info analysis\" >\n",
    "<h4>\n",
    "Conclusion : What is project count as per project status? What is successful and failed ratio ?</h4>\n",
    "    <ul>\n",
    "     <li> There is enough evidence to reject Null hypothesis </li> \n",
    "     <li> The conculsion is that staff pick has impact on success of project  </li> \n",
    "    </ul>\n",
    "</div>"
   ]
  },
  {
   "cell_type": "markdown",
   "metadata": {},
   "source": [
    "##  Finding margin range"
   ]
  },
  {
   "cell_type": "markdown",
   "metadata": {
    "collapsed": true
   },
   "source": [
    "<div class=\"span5 alert alert-info\">\n",
    "<h4>\n",
    "2 What is average pledge amount range for successful & failed projects with high confidence ?</h4>\n",
    "</div>"
   ]
  },
  {
   "cell_type": "markdown",
   "metadata": {},
   "source": [
    "#### With 95 % confidence  interval (1.96)"
   ]
  },
  {
   "cell_type": "code",
   "execution_count": 38,
   "metadata": {
    "collapsed": true
   },
   "outputs": [],
   "source": [
    "analyzecol='usd_pledged'\n",
    "dfHypo_success=df_fail_success[dfHypo.state==stateSuccess].loc[:,['state',analyzecol]]"
   ]
  },
  {
   "cell_type": "code",
   "execution_count": 39,
   "metadata": {},
   "outputs": [
    {
     "data": {
      "text/plain": [
       "1260.7826206173368"
      ]
     },
     "execution_count": 39,
     "metadata": {},
     "output_type": "execute_result"
    },
    {
     "name": "stdout",
     "output_type": "stream",
     "text": [
      "For average 24693.954562083145 The confidence interval is 1260.7826206173368. The margin of range is between 23433.171941465807 to 25954.737182700483\n"
     ]
    }
   ],
   "source": [
    "# for 95% the critcal z value is 1.96 ( based on z table)\n",
    "critical_z_value =1.96\n",
    "sample_mean,sample_sd=dfHypo_success.usd_pledged.mean(),dfHypo_success.usd_pledged.std()\n",
    "confidence_interval =(critical_z_value*sample_sd)/math.sqrt(len(dfHypo_success))\n",
    "confidence_interval\n",
    "print ('For average {} The confidence interval is {}. The margin of range is between {} to {}'.format(sample_mean,confidence_interval,(sample_mean-confidence_interval ),(sample_mean+confidence_interval ) ))"
   ]
  },
  {
   "cell_type": "code",
   "execution_count": 40,
   "metadata": {
    "collapsed": true
   },
   "outputs": [],
   "source": [
    "dfHypo_fail=df_fail_success[dfHypo.state==stateFail].loc[:,['state',analyzecol,'usd_goal']]"
   ]
  },
  {
   "cell_type": "code",
   "execution_count": 41,
   "metadata": {},
   "outputs": [
    {
     "data": {
      "text/plain": [
       "54.248397158134495"
      ]
     },
     "execution_count": 41,
     "metadata": {},
     "output_type": "execute_result"
    },
    {
     "name": "stdout",
     "output_type": "stream",
     "text": [
      "For average 1267.0489921847673 The confidence interval is 54.248397158134495. The margin of range is between 1212.8005950266327 to 1321.2973893429019\n"
     ]
    }
   ],
   "source": [
    "# for 95% the critcal z value is 1.96 ( based on z table)\n",
    "critical_z_value =1.96\n",
    "sample_mean,sample_sd=dfHypo_fail.usd_pledged.mean(),dfHypo_fail.usd_pledged.std()\n",
    "confidence_interval =(critical_z_value*sample_sd)/math.sqrt(len(dfHypo_success))\n",
    "confidence_interval\n",
    "print ('For average {} The confidence interval is {}. The margin of range is between {} to {}'.format(sample_mean,confidence_interval,(sample_mean-confidence_interval ),(sample_mean+confidence_interval ) ))"
   ]
  },
  {
   "cell_type": "markdown",
   "metadata": {},
   "source": [
    "<div class=\"span5 alert alert-info analysis\" >\n",
    "<h4>\n",
    "Conclusion : What is average pledge amount range for successful & failed projects with high confidence ?</h4>\n",
    "    <ul>\n",
    "      <li> The average pledge amount for successful project is 24694.00 USD</li> \n",
    "     <li> With 95 % confidence level the pldege amount should be between 23433.17 USD and  25954.73 USD  </li> \n",
    "     <li> The average pledge amount for failes project is 1267.05 USD</li> \n",
    "     <li> With 95 % confidence level the pldege amount should be between 1212.80 USD and  1321.30 USD  </li> \n",
    "     <li> The pledge amount seems to be factor on failure and success of project  </li> \n",
    "    </ul>\n",
    "</div>"
   ]
  },
  {
   "cell_type": "markdown",
   "metadata": {
    "collapsed": true
   },
   "source": [
    "<div class=\"span5 alert alert-info\">\n",
    "<h4>\n",
    "2 What is average goal amount range for successful & failed projects with high confidence ?</h4>\n",
    "</div>"
   ]
  },
  {
   "cell_type": "markdown",
   "metadata": {},
   "source": [
    "#### With 95 % confidence  interval (1.96)"
   ]
  },
  {
   "cell_type": "code",
   "execution_count": 42,
   "metadata": {
    "collapsed": true
   },
   "outputs": [],
   "source": [
    "analyzecol='usd_goal'\n",
    "dfHypo_success=df_fail_success[dfHypo.state==stateSuccess].loc[:,['state',analyzecol]]"
   ]
  },
  {
   "cell_type": "code",
   "execution_count": 43,
   "metadata": {},
   "outputs": [
    {
     "data": {
      "text/plain": [
       "244.28713449202203"
      ]
     },
     "execution_count": 43,
     "metadata": {},
     "output_type": "execute_result"
    },
    {
     "name": "stdout",
     "output_type": "stream",
     "text": [
      "For average 10449.953448154301 The confidence interval is 244.28713449202203. The margin of range is between 10205.66631366228 to 10694.240582646324\n"
     ]
    }
   ],
   "source": [
    "# for 95% the critcal z value is 1.96 ( based on z table)\n",
    "critical_z_value =1.96\n",
    "sample_mean,sample_sd=dfHypo_success.usd_goal.mean(),dfHypo_success.usd_goal.std()\n",
    "confidence_interval =(critical_z_value*sample_sd)/math.sqrt(len(dfHypo_success))\n",
    "confidence_interval\n",
    "print ('For average {} The confidence interval is {}. The margin of range is between {} to {}'.format(sample_mean,confidence_interval,(sample_mean-confidence_interval ),(sample_mean+confidence_interval ) ))"
   ]
  },
  {
   "cell_type": "code",
   "execution_count": 44,
   "metadata": {
    "collapsed": true
   },
   "outputs": [],
   "source": [
    "dfHypo_fail=df_fail_success[dfHypo.state==stateFail].loc[:,['state',analyzecol]]"
   ]
  },
  {
   "cell_type": "code",
   "execution_count": 45,
   "metadata": {},
   "outputs": [
    {
     "data": {
      "text/plain": [
       "10189.7462606554"
      ]
     },
     "execution_count": 45,
     "metadata": {},
     "output_type": "execute_result"
    },
    {
     "name": "stdout",
     "output_type": "stream",
     "text": [
      "For average 70351.00029641246 The confidence interval is 10189.7462606554. The margin of range is between 60161.254035757054 to 80540.74655706786\n"
     ]
    }
   ],
   "source": [
    "# for 95% the critcal z value is 1.96 ( based on z table)\n",
    "critical_z_value =1.96\n",
    "sample_mean,sample_sd=dfHypo_fail.usd_goal.mean(),dfHypo_fail.usd_goal.std()\n",
    "confidence_interval =(critical_z_value*sample_sd)/math.sqrt(len(dfHypo_success))\n",
    "confidence_interval\n",
    "print ('For average {} The confidence interval is {}. The margin of range is between {} to {}'.format(sample_mean,confidence_interval,(sample_mean-confidence_interval ),(sample_mean+confidence_interval ) ))"
   ]
  },
  {
   "cell_type": "markdown",
   "metadata": {},
   "source": [
    "<div class=\"span5 alert alert-info analysis\" >\n",
    "<h4>\n",
    "Conclusion : What is average pledge amount range for successful & failed projects with high confidence ?</h4>\n",
    "    <ul>\n",
    "      <li> The average pledge amount for successful project is 10450.00 USD</li> \n",
    "     <li> With 95 % confidence level the pldege amount should be between 10205.67 USD and  10694.24 USD  </li> \n",
    "     <li> The average pledge amount for failes project is 70351.00 USD</li> \n",
    "     <li> With 95 % confidence level the pldege amount should be between 60161.25 USD and  80540.75 USD  </li> \n",
    "     <li> The goal amount seems to be factor on failure and success of project  </li> \n",
    "    </ul>\n",
    "</div>"
   ]
  },
  {
   "cell_type": "code",
   "execution_count": 46,
   "metadata": {
    "collapsed": true
   },
   "outputs": [],
   "source": [
    "## End"
   ]
  }
 ],
 "metadata": {
  "kernelspec": {
   "display_name": "Python 3",
   "language": "python",
   "name": "python3"
  },
  "language_info": {
   "codemirror_mode": {
    "name": "ipython",
    "version": 3
   },
   "file_extension": ".py",
   "mimetype": "text/x-python",
   "name": "python",
   "nbconvert_exporter": "python",
   "pygments_lexer": "ipython3",
   "version": "3.6.2"
  }
 },
 "nbformat": 4,
 "nbformat_minor": 2
}
