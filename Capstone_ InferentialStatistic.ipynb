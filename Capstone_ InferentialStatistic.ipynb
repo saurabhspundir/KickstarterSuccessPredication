{
 "cells": [
  {
   "cell_type": "code",
   "execution_count": 1,
   "metadata": {
    "collapsed": true
   },
   "outputs": [],
   "source": [
    "import distutils\n",
    "import distutils.util\n",
    "import numpy as np\n",
    "import matplotlib\n",
    "import matplotlib.pyplot as plt\n",
    "import seaborn as sns\n",
    "import pandas as pd\n",
    "import os\n",
    "import os.path as opath\n",
    "import ast\n",
    "import json\n",
    "from pandas.io.json import json_normalize\n",
    "import datetime\n",
    "import pickle\n",
    "import re\n",
    "from datetime import datetime\n",
    "from IPython.core.display import HTML\n",
    "from IPython.core.interactiveshell import InteractiveShell\n",
    "InteractiveShell.ast_node_interactivity = \"all\"\n",
    "%matplotlib inline"
   ]
  },
  {
   "cell_type": "markdown",
   "metadata": {},
   "source": [
    "<div class=\"span5 alert alert-info\">\n",
    "<h2>Note book details</h2>\n",
    "\n",
    "<p> This notebook is for <b>data story</b> for <b>kickstarter success prediction</b> project.</p>\n",
    "\n",
    "<p> Notes.</p>\n",
    "<ol>\n",
    "<li>  The file will utlize the pickle file crated in third part of for data wrangling</li> \n",
    "<li>  The file will perform exploratory analysis on the kickstarter data with some </li> \n",
    "<li>  The file will address the question with explanation  during analysis</li> \n",
    "<li>  The Questions analyzed are as follows: \n",
    "    <ul>\n",
    "     <li>Question 1 : What is project count as per project status? What is successful and failed ratio ?</li>\n",
    "     <li>Question 2 : Is there relationship with year,month of launch date for successful or Failed?</li>\n",
    "     <li>Question 3 : Is there relationship with goal amount in success of failure of  project?</li>\n",
    "     <li>Question 4 : Is there relationship with pledge amount in success of failure of  project?</li>\n",
    "     <li>Question 5 : Is there relationship with pldege to goal ration in success of failure of  project?</li>\n",
    "     <li>Question 6 : Is there relationship with pldege to no of backers ration in success of failure of  project?</li>\n",
    "     <li>Question 7 : Is there relationship with no of backers in success of failure of  project?</li>\n",
    "     <li>Question 8 : Which country are having most and least successful or failed project?</li>\n",
    "     <li>Question 9 : Does staff pick maked more successful projects?</li>\n",
    "\t <li>Question 10 : What categories are having most and least successful or failed project?</li>\n",
    "     <li>Question 11 : What location type are having most and least successful or failed project?</li>\n",
    "    </ul>\n",
    "</li>        \n",
    "</ol>\n",
    "</div>"
   ]
  },
  {
   "cell_type": "code",
   "execution_count": 2,
   "metadata": {},
   "outputs": [
    {
     "data": {
      "text/html": [
       "<style>body {\n",
       "    margin: 0;\n",
       "    font-family: Helvetica;\n",
       "}\n",
       "table.dataframe {\n",
       "    border-collapse: collapse;\n",
       "    border: none;\n",
       "}\n",
       "table.dataframe tr {\n",
       "    border: none;\n",
       "}\n",
       "table.dataframe td, table.dataframe th {\n",
       "    margin: 0;\n",
       "    border: 1px solid white;\n",
       "    padding-left: 0.25em;\n",
       "    padding-right: 0.25em;\n",
       "}\n",
       "table.dataframe th:not(:empty) {\n",
       "    background-color: #fec;\n",
       "    text-align: left;\n",
       "    font-weight: normal;\n",
       "}\n",
       "table.dataframe tr:nth-child(2) th:empty {\n",
       "    border-left: none;\n",
       "    border-right: 1px dashed #888;\n",
       "}\n",
       "table.dataframe td {\n",
       "    border: 2px solid #ccf;\n",
       "    background-color: #f4f4ff;\n",
       "}\n",
       "h3 {\n",
       "    color: white;\n",
       "    background-color: black;\n",
       "    padding: 0.5em;\n",
       "}\n",
       "</style>"
      ],
      "text/plain": [
       "<IPython.core.display.HTML object>"
      ]
     },
     "execution_count": 2,
     "metadata": {},
     "output_type": "execute_result"
    }
   ],
   "source": [
    "# from IPython.core.display import HTML\n",
    "css = open('style/style-table.css').read() + open('style/style-notebook.css').read()\n",
    "HTML('<style>{}</style>'.format(css))\n",
    "pickle_file='DataStory_Jan2017_Jan2018.sa'\n",
    "df_final_months = pickle.load( open( pickle_file, \"rb\" ) )\n",
    "#df_final_months.info()\n",
    "#df_final_months.head()"
   ]
  },
  {
   "cell_type": "markdown",
   "metadata": {},
   "source": [
    "<div class=\"span5 alert alert-info\" style =\"background:#5bffc0\">\n",
    "<h4>\n",
    "Conclusion : What is project count as per project status? What is successful and failed ratio ?</h4>\n",
    "    <ul>\n",
    "     <li> Most project belongs to Success and Failed Status. The status Canceled and Suspended are negligible </li> \n",
    "     <li> The status Live is for status still active and should be filtered  </li> \n",
    "     <li> There are more Failed then Successful projects but have very close numbers </li> \n",
    "    </ul>\n",
    "</div>"
   ]
  },
  {
   "cell_type": "code",
   "execution_count": null,
   "metadata": {
    "collapsed": true
   },
   "outputs": [],
   "source": []
  }
 ],
 "metadata": {
  "kernelspec": {
   "display_name": "Python 3",
   "language": "python",
   "name": "python3"
  },
  "language_info": {
   "codemirror_mode": {
    "name": "ipython",
    "version": 3
   },
   "file_extension": ".py",
   "mimetype": "text/x-python",
   "name": "python",
   "nbconvert_exporter": "python",
   "pygments_lexer": "ipython3",
   "version": "3.6.2"
  }
 },
 "nbformat": 4,
 "nbformat_minor": 2
}
