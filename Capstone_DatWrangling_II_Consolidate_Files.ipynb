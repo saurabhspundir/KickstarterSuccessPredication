{
 "cells": [
  {
   "cell_type": "code",
   "execution_count": null,
   "metadata": {
    "collapsed": true
   },
   "outputs": [],
   "source": [
    "import numpy as np\n",
    "import pandas as pd\n",
    "import os\n",
    "import os.path as opath\n",
    "import ast\n",
    "import json\n",
    "from pandas.io.json import json_normalize\n",
    "import datetime\n",
    "import pickle\n",
    "from IPython.core.display import HTML\n",
    "from IPython.core.interactiveshell import InteractiveShell\n",
    "InteractiveShell.ast_node_interactivity = \"all\""
   ]
  },
  {
   "cell_type": "markdown",
   "metadata": {},
   "source": [
    "<div class=\"span5 alert alert-info\">\n",
    "<h3>Note book details</h3>\n",
    "\n",
    "<p> This notebook is for part 2 of 3 in data wrangling for <b>kickstarter success prediction</b> project.</p>\n",
    "\n",
    "<p> Notes.</p>\n",
    "<ol>\n",
    "<li>  The file read all individual month wise pickle files  </li>\n",
    "<li>  The file names are following a naming convention<b>(df_monthname_f1.sa)</b> to be read in loop  </li>\n",
    "<li>  The file read from latest to old and create single data frame \n",
    "    <ul>\n",
    "    <li> The recent file is read first to get latest status of duplicate project </li> \n",
    "    </ul>\n",
    "</li>     \n",
    "<li>  The single pickle files created to use further in project . This make easier to use data in later stages</li> \n",
    "    \n",
    "</ol>\n",
    "</div>"
   ]
  },
  {
   "cell_type": "code",
   "execution_count": null,
   "metadata": {
    "collapsed": true
   },
   "outputs": [],
   "source": [
    "pd.set_option('display.max_colwidth', -1)"
   ]
  },
  {
   "cell_type": "markdown",
   "metadata": {},
   "source": [
    "##  Reading all monthly file created previously to merge into single file"
   ]
  },
  {
   "cell_type": "code",
   "execution_count": null,
   "metadata": {
    "collapsed": true
   },
   "outputs": [],
   "source": [
    "df_month =pd.DataFrame()\n",
    "month_list =['jan','feb','mar','apr','may','june','july','aug','sep','oct','nov','dec','jan18']\n",
    "\n",
    "# loop through all above list to read files. The files are named in with maonth name and unform \n",
    "#naming convetion to be used in loop\n",
    "\n",
    "for month in month_list[::-1]:\n",
    "    pickel_file_name='df_%s_f1.sa' % (month)\n",
    "    print(pickel_file_name)\n",
    "    # The files  are un pickel and merged\n",
    "    with open(pickel_file_name, \"rb\") as f:\n",
    "        upickle_df = pickle.load(f)\n",
    "    #upickle_df.info()\n",
    "    df_allmonths=upickle_df.append(upickle_df.query(\"id not in @upickle_df.id\"),ignore_index=True)"
   ]
  },
  {
   "cell_type": "markdown",
   "metadata": {},
   "source": [
    "## Check the data frame created above. Save the pickle file for further use\n",
    "### Note: Run this step after completing the above step"
   ]
  },
  {
   "cell_type": "code",
   "execution_count": null,
   "metadata": {
    "collapsed": true
   },
   "outputs": [],
   "source": [
    "# check the file. Run this step after completing above step\n",
    "df_allmonths.info()"
   ]
  },
  {
   "cell_type": "code",
   "execution_count": null,
   "metadata": {
    "collapsed": true
   },
   "outputs": [],
   "source": [
    "# Check if the project id is unique to confirm no duplication of data\n",
    "df_allmonths.id.is_unique"
   ]
  },
  {
   "cell_type": "code",
   "execution_count": null,
   "metadata": {
    "collapsed": true
   },
   "outputs": [],
   "source": [
    "df_allmonths[df_allmonths.duplicated('id')]"
   ]
  },
  {
   "cell_type": "code",
   "execution_count": null,
   "metadata": {
    "collapsed": true
   },
   "outputs": [],
   "source": [
    "df_allmonths.set_index('id').sort_index()"
   ]
  },
  {
   "cell_type": "code",
   "execution_count": null,
   "metadata": {},
   "outputs": [],
   "source": [
    "# set the unique pickle file namd and save the file for further use\n",
    "picklefilename='Jan2017_Jan2018.sa'\n",
    "pickle.dump(df_allmonths,open(picklefilename,'wb'))"
   ]
  },
  {
   "cell_type": "code",
   "execution_count": null,
   "metadata": {
    "collapsed": true
   },
   "outputs": [],
   "source": [
    "# check pickel file\n",
    "upickle_df = pickle.load(open(picklefilename,\"rb\"))"
   ]
  },
  {
   "cell_type": "code",
   "execution_count": null,
   "metadata": {
    "collapsed": true
   },
   "outputs": [],
   "source": [
    "upickle_df.info()"
   ]
  }
 ],
 "metadata": {
  "kernelspec": {
   "display_name": "Python 3",
   "language": "python",
   "name": "python3"
  },
  "language_info": {
   "codemirror_mode": {
    "name": "ipython",
    "version": 3
   },
   "file_extension": ".py",
   "mimetype": "text/x-python",
   "name": "python",
   "nbconvert_exporter": "python",
   "pygments_lexer": "ipython3",
   "version": "3.6.2"
  }
 },
 "nbformat": 4,
 "nbformat_minor": 2
}
